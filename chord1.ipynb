{
 "cells": [
  {
   "cell_type": "code",
   "execution_count": 1,
   "id": "7d228c38",
   "metadata": {},
   "outputs": [],
   "source": [
    "import pandas as pd\n",
    "data = pd.read_csv('input.csv')\n",
    "node_data = pd.read_csv('index.csv')"
   ]
  },
  {
   "cell_type": "code",
   "execution_count": null,
   "id": "02e398be",
   "metadata": {},
   "outputs": [],
   "source": [
    "import holoviews as hv\n",
    "from holoviews import opts, dim\n",
    "import holoviews.plotting.bokeh\n",
    "hv.extension('bokeh')\n",
    "hv.output(size=200)\n",
    "\n",
    "#add node labels\n",
    "nodes = hv.Dataset(pd.DataFrame(node_data['nodes']), 'index')\n",
    "\n",
    "#create chord object\n",
    "chord = hv.Chord((data, nodes)).select(value=(5, None))\n",
    "\n",
    "#customization of chart\n",
    "chord.opts(\n",
    "    opts.Layout(title=\"Chord Diagram Example\"),     \n",
    "    opts.Chord(cmap='Category20', edge_cmap='Category20', edge_color=dim('Source').str(), \n",
    "    labels='nodes', node_color=dim('index').str())\n",
    ")"
   ]
  },
  {
   "cell_type": "code",
   "execution_count": null,
   "id": "33962056",
   "metadata": {},
   "outputs": [],
   "source": []
  }
 ],
 "metadata": {
  "kernelspec": {
   "display_name": "Python 3 (ipykernel)",
   "language": "python",
   "name": "python3"
  },
  "language_info": {
   "codemirror_mode": {
    "name": "ipython",
    "version": 3
   },
   "file_extension": ".py",
   "mimetype": "text/x-python",
   "name": "python",
   "nbconvert_exporter": "python",
   "pygments_lexer": "ipython3",
   "version": "3.10.9"
  }
 },
 "nbformat": 4,
 "nbformat_minor": 5
}
